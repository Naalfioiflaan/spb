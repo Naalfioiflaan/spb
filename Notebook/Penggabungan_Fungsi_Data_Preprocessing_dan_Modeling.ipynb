{
  "nbformat": 4,
  "nbformat_minor": 0,
  "metadata": {
    "colab": {
      "provenance": []
    },
    "kernelspec": {
      "name": "python3",
      "display_name": "Python 3"
    },
    "language_info": {
      "name": "python"
    }
  },
  "cells": [
    {
      "cell_type": "markdown",
      "source": [
        "Notebook ini dapat diakses melalui google collabs pada link berikut :\n",
        "https://colab.research.google.com/drive/1jXpNO66mmjfHqeNXSfpFkyJL2hVObCuh?usp=sharing"
      ],
      "metadata": {
        "id": "hq5Z0vOgshjH"
      }
    },
    {
      "cell_type": "markdown",
      "source": [
        "# Fungsi Data Preprocessing"
      ],
      "metadata": {
        "id": "7tQ8_nXfPwWt"
      }
    },
    {
      "cell_type": "code",
      "source": [
        "a = 'Targetkan Penurunan Kemiskinan Ekstrem, Bupati Meranti Datangi Kemensos JAKARTA Bupati Kepulauan Meranti, H. Muhammad Adil mendatangi Kantor Kementerian Sosial di Jakarta, Rabu (18/1/2023). Kedatangannya disambut langsung oleh Dr. Arif Nahari, Direktur Pemberdayaan Masyarakat Kemensos. Adil menyampaikan, dia sengaja membawa sejumlah pejabatnya untuk memperoleh informasi dan program dari Kemensos yang bisa dibawa ke Meranti. \"Sesuai dengan Tupoksi Kemensos, kami mengharapkan ada bantuan. Terlebih dalam upaya pemberantasan kemiskinan ekstrem di Meranti,\" katanya. Presiden Jokowi, tambahnya, telah menargetkan untuk nol kemiskinan ekstrem di tahun 2024 mendatang. Hal itu menurutnya hanya bisa dilakukan jika ada kolaborasi dari pemerintah pusat dan daerah. \"Sesuai perintah presiden, 2024 sudah penghapusan kemiskinan ekstrem. Makanya saya keliling ke kementerian ini,\" sebutnya. Covid-19 yang melanda Indonesia, tambahnya, menyebabkan Kepulauan Meranti menjadi kabupaten dengan penduduk miskin ekstrem tertinggi di Riau. Hal itu dikarenakan banyak warganya yang tidak bisa kembali bekerja ke Malaysia sehingga menjadi pengangguran. \"Ada 22 ribu warga Meranti tak bisa bekerja ke Malaysia. Ini kantong kemiskinan baru. Alhamdulillah, saat ini pintu ke Malaysia sudah buka kembali,\" ujar Adil. Lebih lanjut Bupati Adil meminta Kemensos bisa menyesuaikan program bantuan dengan kondisi di Kepulauan Meranti. Terutama dalam program rumah layak huni bagi warga miskin. \"Kondisi tanah dan harga material di Meranti itu berbeda dengan yang ada di Pulau Jawa. Jadi kami minta Kemensos dalam perencanaan nya bisa menyesuaikan,\" harapnya. Direktur Pemberdayaan Masyarakat Kemensos, Arif Nahari dalam kesempatan itu memaparkan sejumlah program kementerian tersebut. Diantaranya program Pahlawan Ekonomi Nusantara (Pena). Tujuannya meningkatkan pendapatan KPM melalui usaha yang berkelanjutan dan tersaring nya KPM yang benar-benar membutuhkan Bansos. \"Kemensos berkontribusi terhadap penurunan beban keuangan negara dalam jangka panjang,\" jelasnya Dia juga mengaku bahwa support dari pemerintah daerah tidak bisa dipisahkan dari upaya pemerintah pusat dalam menangani miskin ekstrem. Dia meminta Pemkab Meranti bersurat ke Menteri Sosial dan memasukkan usulan proposal langsung ke command center Kemensos agar segera menjadi prioritas. \"Kami selalu membuka ruang, tidak membatasi. Yang penting sampaikan data-data eksis dan strategi dalam pemberantasan kemiskinan ekstrem di Meranti,\" sebutnya. Ikut mendampingi Bupati Adil, Sekda Kepulauan Meranti, Bambang Suprianto, para Asisten Setdakab, Staf Ahli Bupati dan sejumlah kepala OPD di lingkungan Pemkab Meranti.***'"
      ],
      "metadata": {
        "id": "nCqr0S_OP7a2"
      },
      "execution_count": null,
      "outputs": []
    },
    {
      "cell_type": "code",
      "source": [
        "# library data preprocessing\n",
        "import string as s\n",
        "import nltk\n",
        "nltk.download('stopwords')\n",
        "from nltk.corpus import stopwords\n",
        "nltk.download('wordnet')\n",
        "!pip install Sastrawi\n",
        "from Sastrawi.Stemmer.StemmerFactory import StemmerFactory"
      ],
      "metadata": {
        "colab": {
          "base_uri": "https://localhost:8080/"
        },
        "id": "J6ZkHPJIUvz3",
        "outputId": "24e2c155-b8e5-4db3-b475-0c95bff06747"
      },
      "execution_count": null,
      "outputs": [
        {
          "output_type": "stream",
          "name": "stderr",
          "text": [
            "[nltk_data] Downloading package stopwords to /root/nltk_data...\n",
            "[nltk_data]   Unzipping corpora/stopwords.zip.\n",
            "[nltk_data] Downloading package wordnet to /root/nltk_data...\n"
          ]
        },
        {
          "output_type": "stream",
          "name": "stdout",
          "text": [
            "Looking in indexes: https://pypi.org/simple, https://us-python.pkg.dev/colab-wheels/public/simple/\n",
            "Collecting Sastrawi\n",
            "  Downloading Sastrawi-1.0.1-py2.py3-none-any.whl (209 kB)\n",
            "\u001b[2K     \u001b[90m━━━━━━━━━━━━━━━━━━━━━━━━━━━━━━━━━━━━━━\u001b[0m \u001b[32m209.7/209.7 kB\u001b[0m \u001b[31m16.2 MB/s\u001b[0m eta \u001b[36m0:00:00\u001b[0m\n",
            "\u001b[?25hInstalling collected packages: Sastrawi\n",
            "Successfully installed Sastrawi-1.0.1\n"
          ]
        }
      ]
    },
    {
      "cell_type": "code",
      "execution_count": null,
      "metadata": {
        "id": "OKETJAN5PrT0"
      },
      "outputs": [],
      "source": [
        "def preprocessing(text):\n",
        "  # lowercase\n",
        "  text = text.lower()\n",
        "  # remove punctuation and numbers\n",
        "  TANDA_BACA = s.punctuation\n",
        "  ANGKA = s.digits\n",
        "  text = text.translate(str.maketrans('', '', TANDA_BACA)).translate(str.maketrans('', '', ANGKA))\n",
        "  # remove stopwords\n",
        "  from nltk.corpus import stopwords\n",
        "  STOPWORDS = set(stopwords.words('indonesian'))\n",
        "  text = \" \".join([word for word in str(text).split() if word not in STOPWORDS])\n",
        "  # stemming\n",
        "  Fact = StemmerFactory()\n",
        "  Stemmer = Fact.create_stemmer()\n",
        "  text = Stemmer.stem(text)\n",
        "  return text"
      ]
    },
    {
      "cell_type": "code",
      "source": [
        "fix = preprocessing(a)"
      ],
      "metadata": {
        "id": "5ulyuVBGRTwL"
      },
      "execution_count": null,
      "outputs": []
    },
    {
      "cell_type": "markdown",
      "source": [
        "# Classify"
      ],
      "metadata": {
        "id": "Pk5aVxLXYLnB"
      }
    },
    {
      "cell_type": "code",
      "source": [
        "import pickle\n",
        "import pandas as pd"
      ],
      "metadata": {
        "id": "eMNVMQM8S7_t"
      },
      "execution_count": null,
      "outputs": []
    },
    {
      "cell_type": "markdown",
      "source": [
        "## Kemiskinan"
      ],
      "metadata": {
        "id": "IwfLDKHniq_W"
      }
    },
    {
      "cell_type": "code",
      "source": [
        "kemiskinan_model = pickle.load(open('kemiskinan.pkl', 'rb'))"
      ],
      "metadata": {
        "id": "cn8KavROT9Ut"
      },
      "execution_count": null,
      "outputs": []
    },
    {
      "cell_type": "code",
      "source": [
        "def classify_kemiskinan(text):\n",
        "  t = preprocessing(text)\n",
        "  s = pd.Series(t)\n",
        "  hasil = kemiskinan_model.predict(s)\n",
        "  return hasil[0]"
      ],
      "metadata": {
        "id": "uow0odKveQlr"
      },
      "execution_count": null,
      "outputs": []
    },
    {
      "cell_type": "code",
      "source": [
        "print(classify_kemiskinan(a))"
      ],
      "metadata": {
        "colab": {
          "base_uri": "https://localhost:8080/"
        },
        "id": "FTiAntoQf6gt",
        "outputId": "352323dd-6e77-4ae0-d047-dd57bd0291e7"
      },
      "execution_count": null,
      "outputs": [
        {
          "output_type": "stream",
          "name": "stdout",
          "text": [
            "1\n"
          ]
        }
      ]
    },
    {
      "cell_type": "markdown",
      "source": [
        "## Pengangguran"
      ],
      "metadata": {
        "id": "TWC5GdocitBg"
      }
    },
    {
      "cell_type": "code",
      "source": [
        "pengangguran_model = pickle.load(open('pengangguran.pkl', 'rb'))"
      ],
      "metadata": {
        "id": "5EKml4HMiYo6"
      },
      "execution_count": null,
      "outputs": []
    },
    {
      "cell_type": "code",
      "source": [
        "def classify_pengangguran(text):\n",
        "  t = preprocessing(text)\n",
        "  s = pd.Series(t)\n",
        "  hasil = pengangguran_model.predict(s)\n",
        "  return hasil[0]"
      ],
      "metadata": {
        "id": "S_US02l8igNT"
      },
      "execution_count": null,
      "outputs": []
    },
    {
      "cell_type": "code",
      "source": [
        "print(classify_pengangguran(a))"
      ],
      "metadata": {
        "colab": {
          "base_uri": "https://localhost:8080/"
        },
        "id": "7ly1skpqikbn",
        "outputId": "4e8d175e-61d7-487b-ee4d-ddb33cf05b75"
      },
      "execution_count": null,
      "outputs": [
        {
          "output_type": "stream",
          "name": "stdout",
          "text": [
            "0\n"
          ]
        }
      ]
    },
    {
      "cell_type": "markdown",
      "source": [
        "## Demokrasi"
      ],
      "metadata": {
        "id": "ffUR1VJEixaO"
      }
    },
    {
      "cell_type": "code",
      "source": [
        "demokrasi_model = pickle.load(open('demokrasi.pkl', 'rb'))"
      ],
      "metadata": {
        "id": "6niyQ7clixaR"
      },
      "execution_count": null,
      "outputs": []
    },
    {
      "cell_type": "code",
      "source": [
        "def classify_demokrasi(text):\n",
        "  t = preprocessing(text)\n",
        "  s = pd.Series(t)\n",
        "  hasil = demokrasi_model.predict(s)\n",
        "  return hasil[0]"
      ],
      "metadata": {
        "id": "fg1btIX9ixaT"
      },
      "execution_count": null,
      "outputs": []
    },
    {
      "cell_type": "code",
      "source": [
        "print(classify_demokrasi(a))"
      ],
      "metadata": {
        "colab": {
          "base_uri": "https://localhost:8080/"
        },
        "outputId": "b99565c3-1aa5-48fb-c8f7-f12a431169ee",
        "id": "50qQoiK0ixaU"
      },
      "execution_count": null,
      "outputs": [
        {
          "output_type": "stream",
          "name": "stdout",
          "text": [
            "0\n"
          ]
        }
      ]
    },
    {
      "cell_type": "markdown",
      "source": [
        "## Inflasi"
      ],
      "metadata": {
        "id": "mzgzzhL1i8wz"
      }
    },
    {
      "cell_type": "code",
      "source": [
        "inflasi_model = pickle.load(open('inflasi.pkl', 'rb'))"
      ],
      "metadata": {
        "id": "1Kj-IeKEi8w2"
      },
      "execution_count": null,
      "outputs": []
    },
    {
      "cell_type": "code",
      "source": [
        "def classify_inflasi(text):\n",
        "  t = preprocessing(text)\n",
        "  s = pd.Series(t)\n",
        "  hasil = inflasi_model.predict(s)\n",
        "  return hasil[0]"
      ],
      "metadata": {
        "id": "sboJsIe8i8w3"
      },
      "execution_count": null,
      "outputs": []
    },
    {
      "cell_type": "code",
      "source": [
        "print(classify_inflasi(a))"
      ],
      "metadata": {
        "colab": {
          "base_uri": "https://localhost:8080/"
        },
        "outputId": "98a2ae3f-be98-4ea6-a752-05d531d6d9e4",
        "id": "fRLw9rkmi8w5"
      },
      "execution_count": null,
      "outputs": [
        {
          "output_type": "stream",
          "name": "stdout",
          "text": [
            "0\n"
          ]
        }
      ]
    },
    {
      "cell_type": "markdown",
      "source": [
        "## Pertumbuhan Ekonomi"
      ],
      "metadata": {
        "id": "7brpaEHSjHJr"
      }
    },
    {
      "cell_type": "code",
      "source": [
        "ekonomi_model = pickle.load(open('ekonomi.pkl', 'rb'))"
      ],
      "metadata": {
        "id": "zzvsA6ZwjHJt"
      },
      "execution_count": null,
      "outputs": []
    },
    {
      "cell_type": "code",
      "source": [
        "def classify_ekonomi(text):\n",
        "  t = preprocessing(text)\n",
        "  s = pd.Series(t)\n",
        "  hasil = ekonomi_model.predict(s)\n",
        "  return hasil[0]"
      ],
      "metadata": {
        "id": "EBACe0t5jHJu"
      },
      "execution_count": null,
      "outputs": []
    },
    {
      "cell_type": "code",
      "source": [
        "print(classify_ekonomi(a))"
      ],
      "metadata": {
        "colab": {
          "base_uri": "https://localhost:8080/"
        },
        "outputId": "7533ac2a-b563-4816-c475-ab765e718fdf",
        "id": "DL_YmUftjHJw"
      },
      "execution_count": null,
      "outputs": [
        {
          "output_type": "stream",
          "name": "stdout",
          "text": [
            "0\n"
          ]
        }
      ]
    }
  ]
}